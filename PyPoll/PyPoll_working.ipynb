{
 "cells": [
  {
   "cell_type": "code",
   "execution_count": 1,
   "metadata": {},
   "outputs": [],
   "source": [
    "\n",
    "# import libraries\n",
    "import csv, os"
   ]
  },
  {
   "cell_type": "code",
   "execution_count": 2,
   "metadata": {},
   "outputs": [],
   "source": [
    "# read csv\n",
    "csv_path = os.path.join(\"Resources\", \"Test_data.csv\")"
   ]
  },
  {
   "cell_type": "code",
   "execution_count": 3,
   "metadata": {},
   "outputs": [
    {
     "name": "stdout",
     "output_type": "stream",
     "text": [
      "['Voter ID', 'County', 'Candidate']\n"
     ]
    }
   ],
   "source": [
    "# open file to read, read in rows, break all rows up by columns using comma\n",
    "with open(csv_path) as csvfile:\n",
    "    election = csv.reader(csvfile, delimiter=',')\n",
    "    header = next(election)\n",
    "    print(header)\n",
    "    \n",
    "    # The total number of votes cast (total number of rows)\n",
    "\n",
    "# initialize list\n",
    "    header = next(election)\n",
    "    total_votes = 0\n",
    "    individual_vote = 0\n",
    "    unique_vote = []\n",
    "    candidate = []\n",
    "    candidates = []\n",
    "    num_votes = []\n",
    "    vote_per = []\n",
    "    \n",
    "    for row in election:\n",
    "        total_votes = 1\n",
    "        candidate.append(row[2])\n",
    "    for x in set(candidate):\n",
    "        unique_vote.append(x)\n",
    "        y = candidate.count(x)\n",
    "        num_votes.append(y)\n",
    "        # z is the percent total votes per candidate\n",
    "        z = (y/total_votes)*100\n",
    "        vote_per.append(z)\n",
    "        print(unique_vote)\n",
    "        print(num_votes)\n",
    "        \n",
    "    print(f'Election Results\\n----------------------------------\\nTotal Votes:{total_votes}\\n-------------------\\n')\n",
    "    for a in range(len(num_votes)):\n",
    "        print(f'{unique_vote[a]} : {vote_per[a]}%({num_votes[a]})', file =f))\n",
    "        \n",
    "    \n",
    "\n",
    "# Loop through every list (row) starting at index 0 because that first value of each list (row) is all we want in our vote_list\n",
    " \n",
    "    \n",
    "# A complete list of candidates who received votes\n",
    "    # need to find the unique values in candidate column\n",
    "# initlize list\n",
    "    "
   ]
  },
  {
   "cell_type": "code",
   "execution_count": null,
   "metadata": {},
   "outputs": [],
   "source": [
    "\n"
   ]
  },
  {
   "cell_type": "code",
   "execution_count": null,
   "metadata": {},
   "outputs": [],
   "source": [
    "# The percentage of votes each candidate won\n"
   ]
  },
  {
   "cell_type": "code",
   "execution_count": null,
   "metadata": {},
   "outputs": [],
   "source": [
    "# The total number of votes each candidate won\n"
   ]
  },
  {
   "cell_type": "code",
   "execution_count": null,
   "metadata": {},
   "outputs": [],
   "source": [
    "# The winner of the election based on popular vote.\n"
   ]
  }
 ],
 "metadata": {
  "kernelspec": {
   "display_name": "Python 3",
   "language": "python",
   "name": "python3"
  },
  "language_info": {
   "codemirror_mode": {
    "name": "ipython",
    "version": 3
   },
   "file_extension": ".py",
   "mimetype": "text/x-python",
   "name": "python",
   "nbconvert_exporter": "python",
   "pygments_lexer": "ipython3",
   "version": "3.8.5"
  }
 },
 "nbformat": 4,
 "nbformat_minor": 4
}
