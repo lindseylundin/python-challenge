{
 "cells": [
  {
   "cell_type": "code",
   "execution_count": 1,
   "metadata": {},
   "outputs": [],
   "source": [
    "\n",
    "# import libraries\n",
    "import csv, os"
   ]
  },
  {
   "cell_type": "code",
   "execution_count": 2,
   "metadata": {},
   "outputs": [],
   "source": [
    "# read csv\n",
    "csv_path = os.path.join(\"Resources\", \"Test_data.csv\")"
   ]
  },
  {
   "cell_type": "code",
   "execution_count": 4,
   "metadata": {},
   "outputs": [
    {
     "name": "stdout",
     "output_type": "stream",
     "text": [
      "['Voter ID', 'County', 'Candidate']\n",
      "[\"O'Tooley\"]\n",
      "[2]\n",
      "[\"O'Tooley\", 'Khan']\n",
      "[2, 70]\n",
      "[\"O'Tooley\", 'Khan', 'Li']\n",
      "[2, 70, 8]\n",
      "[\"O'Tooley\", 'Khan', 'Li', 'Correy']\n",
      "[2, 70, 8, 18]\n",
      "Election Results\n",
      "----------------------------------\n",
      "Total Votes:1\n",
      "-------------------\n",
      "\n"
     ]
    },
    {
     "ename": "NameError",
     "evalue": "name 'f' is not defined",
     "output_type": "error",
     "traceback": [
      "\u001b[1;31m---------------------------------------------------------------------------\u001b[0m",
      "\u001b[1;31mNameError\u001b[0m                                 Traceback (most recent call last)",
      "\u001b[1;32m<ipython-input-4-33030f78b515>\u001b[0m in \u001b[0;36m<module>\u001b[1;34m\u001b[0m\n\u001b[0;32m     32\u001b[0m     \u001b[0mprint\u001b[0m\u001b[1;33m(\u001b[0m\u001b[1;34mf'Election Results\\n----------------------------------\\nTotal Votes:{total_votes}\\n-------------------\\n'\u001b[0m\u001b[1;33m)\u001b[0m\u001b[1;33m\u001b[0m\u001b[1;33m\u001b[0m\u001b[0m\n\u001b[0;32m     33\u001b[0m     \u001b[1;32mfor\u001b[0m \u001b[0ma\u001b[0m \u001b[1;32min\u001b[0m \u001b[0mrange\u001b[0m\u001b[1;33m(\u001b[0m\u001b[0mlen\u001b[0m\u001b[1;33m(\u001b[0m\u001b[0mnum_votes\u001b[0m\u001b[1;33m)\u001b[0m\u001b[1;33m)\u001b[0m\u001b[1;33m:\u001b[0m\u001b[1;33m\u001b[0m\u001b[1;33m\u001b[0m\u001b[0m\n\u001b[1;32m---> 34\u001b[1;33m         \u001b[0mprint\u001b[0m\u001b[1;33m(\u001b[0m\u001b[1;34mf'{unique_vote[a]} : {vote_per[a]}%({num_votes[a]})'\u001b[0m\u001b[1;33m,\u001b[0m \u001b[0mfile\u001b[0m \u001b[1;33m=\u001b[0m\u001b[0mf\u001b[0m\u001b[1;33m)\u001b[0m\u001b[1;33m\u001b[0m\u001b[1;33m\u001b[0m\u001b[0m\n\u001b[0m\u001b[0;32m     35\u001b[0m \u001b[1;33m\u001b[0m\u001b[0m\n\u001b[0;32m     36\u001b[0m \u001b[1;33m\u001b[0m\u001b[0m\n",
      "\u001b[1;31mNameError\u001b[0m: name 'f' is not defined"
     ]
    }
   ],
   "source": [
    "# open file to read, read in rows, break all rows up by columns using comma\n",
    "with open(csv_path) as csvfile:\n",
    "    election = csv.reader(csvfile, delimiter=',')\n",
    "    header = next(election)\n",
    "    print(header)\n",
    "    \n",
    "    # The total number of votes cast (total number of rows)\n",
    "\n",
    "# initialize list\n",
    "    header = next(election)\n",
    "    total_votes = 0\n",
    "    individual_vote = 0\n",
    "    unique_vote = []\n",
    "    candidate = []\n",
    "    candidates = []\n",
    "    num_votes = []\n",
    "    vote_per = []\n",
    "    \n",
    "    for row in election:\n",
    "        total_votes = 1\n",
    "        candidate.append(row[2])\n",
    "    for x in set(candidate):\n",
    "        unique_vote.append(x)\n",
    "        y = candidate.count(x)\n",
    "        num_votes.append(y)\n",
    "        # z is the percent total votes per candidate\n",
    "        z = (y/total_votes)*100\n",
    "        vote_per.append(z)\n",
    "        print(unique_vote)\n",
    "        print(num_votes)\n",
    "        \n",
    "    print(f'Election Results\\n----------------------------------\\nTotal Votes:{total_votes}\\n-------------------\\n')\n",
    "    for a in range(len(num_votes)):\n",
    "        print(f'{unique_vote[a]} : {vote_per[a]}%({num_votes[a]})', file =f)\n",
    "        \n",
    "    \n",
    "\n",
    "# Loop through every list (row) starting at index 0 because that first value of each list (row) is all we want in our vote_list\n",
    " \n",
    "    \n",
    "# A complete list of candidates who received votes\n",
    "    # need to find the unique values in candidate column\n",
    "# initlize list\n",
    "    "
   ]
  },
  {
   "cell_type": "code",
   "execution_count": null,
   "metadata": {},
   "outputs": [],
   "source": [
    "\n"
   ]
  },
  {
   "cell_type": "code",
   "execution_count": null,
   "metadata": {},
   "outputs": [],
   "source": [
    "# The percentage of votes each candidate won\n"
   ]
  },
  {
   "cell_type": "code",
   "execution_count": null,
   "metadata": {},
   "outputs": [],
   "source": [
    "# The total number of votes each candidate won\n"
   ]
  },
  {
   "cell_type": "code",
   "execution_count": null,
   "metadata": {},
   "outputs": [],
   "source": [
    "# The winner of the election based on popular vote.\n"
   ]
  }
 ],
 "metadata": {
  "kernelspec": {
   "display_name": "Python 3",
   "language": "python",
   "name": "python3"
  },
  "language_info": {
   "codemirror_mode": {
    "name": "ipython",
    "version": 3
   },
   "file_extension": ".py",
   "mimetype": "text/x-python",
   "name": "python",
   "nbconvert_exporter": "python",
   "pygments_lexer": "ipython3",
   "version": "3.8.5"
  }
 },
 "nbformat": 4,
 "nbformat_minor": 4
}
