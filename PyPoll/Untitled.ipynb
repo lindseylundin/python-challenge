{
 "cells": [
  {
   "cell_type": "code",
   "execution_count": 39,
   "metadata": {},
   "outputs": [],
   "source": [
    "# import libraries\n",
    "import csv, os\n"
   ]
  },
  {
   "cell_type": "code",
   "execution_count": 45,
   "metadata": {},
   "outputs": [
    {
     "name": "stdout",
     "output_type": "stream",
     "text": [
      "{\"O'Tooley\", 'Correy', 'Khan', 'Li'}\n"
     ]
    }
   ],
   "source": [
    "# read csv\n",
    "csv_path = os.path.join(\"Resources\", \"test_data.csv\")\n",
    "# open file to read, read in rows, break all rows up by columns using comma\n",
    "with open(csv_path) as csvfile:\n",
    "    election_data = csv.reader(csvfile, delimiter=',')\n",
    "    header = next(election_data)\n",
    "    \n",
    "#initialize list    \n",
    "    vote_list = []\n",
    "    candidate_column = []\n",
    "    \n",
    "    \n",
    "    for row in election_data:\n",
    "        vote_list.append(row[0]) \n",
    "        candidate_column.append(row[2])\n",
    "\n",
    "#total number of votes - each row is one vote\n",
    "    vote_count = len(vote_list)\n",
    "    candidate_list = set(candidate_column)\n",
    "    print(candidate_list)\n",
    "    \n",
    "    \n",
    "    \n",
    "  \n",
    "    \n",
    "    \n",
    "    \n",
    "    \n",
    "    \n",
    "    "
   ]
  },
  {
   "cell_type": "code",
   "execution_count": null,
   "metadata": {},
   "outputs": [],
   "source": []
  }
 ],
 "metadata": {
  "kernelspec": {
   "display_name": "Python 3",
   "language": "python",
   "name": "python3"
  },
  "language_info": {
   "codemirror_mode": {
    "name": "ipython",
    "version": 3
   },
   "file_extension": ".py",
   "mimetype": "text/x-python",
   "name": "python",
   "nbconvert_exporter": "python",
   "pygments_lexer": "ipython3",
   "version": "3.8.5"
  }
 },
 "nbformat": 4,
 "nbformat_minor": 4
}
