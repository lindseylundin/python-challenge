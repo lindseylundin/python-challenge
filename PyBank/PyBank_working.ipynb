{
 "cells": [
  {
   "cell_type": "code",
   "execution_count": 6,
   "metadata": {},
   "outputs": [],
   "source": [
    "# import libraries\n",
    "import csv, os"
   ]
  },
  {
   "cell_type": "code",
   "execution_count": 7,
   "metadata": {},
   "outputs": [],
   "source": [
    "# read csv\n",
    "csv_path = os.path.join(\"Resources\", \"budget_data.csv\")"
   ]
  },
  {
   "cell_type": "code",
   "execution_count": 8,
   "metadata": {},
   "outputs": [
    {
     "ename": "StopIteration",
     "evalue": "",
     "output_type": "error",
     "traceback": [
      "\u001b[1;31m---------------------------------------------------------------------------\u001b[0m",
      "\u001b[1;31mStopIteration\u001b[0m                             Traceback (most recent call last)",
      "\u001b[1;32m<ipython-input-8-cebb39145ee3>\u001b[0m in \u001b[0;36m<module>\u001b[1;34m\u001b[0m\n\u001b[0;32m      2\u001b[0m \u001b[1;32mwith\u001b[0m \u001b[0mopen\u001b[0m\u001b[1;33m(\u001b[0m\u001b[0mcsv_path\u001b[0m\u001b[1;33m)\u001b[0m \u001b[1;32mas\u001b[0m \u001b[0mcsvfile\u001b[0m\u001b[1;33m:\u001b[0m\u001b[1;33m\u001b[0m\u001b[1;33m\u001b[0m\u001b[0m\n\u001b[0;32m      3\u001b[0m     \u001b[0mcsvreader\u001b[0m \u001b[1;33m=\u001b[0m \u001b[0mcsv\u001b[0m\u001b[1;33m.\u001b[0m\u001b[0mreader\u001b[0m\u001b[1;33m(\u001b[0m\u001b[0mcsvfile\u001b[0m\u001b[1;33m,\u001b[0m \u001b[0mdelimiter\u001b[0m\u001b[1;33m=\u001b[0m\u001b[1;34m','\u001b[0m\u001b[1;33m)\u001b[0m\u001b[1;33m\u001b[0m\u001b[1;33m\u001b[0m\u001b[0m\n\u001b[1;32m----> 4\u001b[1;33m     \u001b[0mheader\u001b[0m \u001b[1;33m=\u001b[0m \u001b[0mnext\u001b[0m\u001b[1;33m(\u001b[0m\u001b[0mcsvreader\u001b[0m\u001b[1;33m)\u001b[0m\u001b[1;33m\u001b[0m\u001b[1;33m\u001b[0m\u001b[0m\n\u001b[0m\u001b[0;32m      5\u001b[0m \u001b[1;33m\u001b[0m\u001b[0m\n\u001b[0;32m      6\u001b[0m \u001b[1;31m# Calculate total number of months included in the data set (number of rows of data)\u001b[0m\u001b[1;33m\u001b[0m\u001b[1;33m\u001b[0m\u001b[1;33m\u001b[0m\u001b[0m\n",
      "\u001b[1;31mStopIteration\u001b[0m: "
     ]
    }
   ],
   "source": [
    "# open file to read, read in rows, break all rows up by columns using comma\n",
    "with open(csv_path) as csvfile:\n",
    "    csvreader = csv.reader(csvfile, delimiter=',')\n",
    "    header = next(csvreader)\n",
    "    \n",
    "# Calculate total number of months included in the data set (number of rows of data)\n",
    "\n",
    "#Initialize List (\"Hey computer, I want to make a list, I don't know what I want to put in it yet, but this is what I want it to look like\")\n",
    "    date_list = []\n",
    "    pl_list = []\n",
    "    \n",
    "# Loop through every list (row) starting at index 0 because that first value of each list (row) is all we want in our date_list\n",
    "    for row in csvreader:\n",
    "        date_list.append(row[0])   # every row at index 0, .append puts it in the date_list for us\n",
    "        pl_list.append(int(row[1]))   # had to put int to make the answer an integer instead of string so we can add them\n",
    "    \n",
    "    month_count = len(date_list)\n",
    "    \n",
    "    #print(date_list)   # Backed up the print statement one indent level in order to clean up list \n",
    "     \n",
    "    #print(month_count)   # print number of items in date_list, which is our number of months \n",
    "   \n",
    "    #print(pl_list)\n",
    "    \n",
    "    pl_sum = sum(pl_list)\n",
    "    #print(pl_sum)\n",
    "    \n",
    "    \n",
    "# definte change_list as list\n",
    "    change_list = []\n",
    "    \n",
    "    for x in range(1, len(pl_list)):\n",
    "        #print(pl_list[x])\n",
    "        change_list.append(int(pl_list[x] - pl_list[x-1]))\n",
    "#calculate current row minus previous row to get the change value \n",
    "        \n",
    "#total the values in change_list\n",
    "    total_change = sum(change_list)\n",
    "    #print(total_change)\n",
    "    \n",
    "# find the average of those changes\n",
    "    \n",
    "    average_change = total_change/(month_count-1)\n",
    "    #print(average_change)\n",
    "\n",
    "# find the max value in change_list\n",
    "    max_change = max(change_list)\n",
    "    #print(max_change)\n",
    "\n",
    "# find the min value of the change_list\n",
    "    min_change = min(change_list)\n",
    "    #print(min_change)\n",
    "    \n",
    "\n",
    "    "
   ]
  },
  {
   "cell_type": "code",
   "execution_count": 5,
   "metadata": {},
   "outputs": [
    {
     "ename": "ValueError",
     "evalue": "illegal newline value: ,",
     "output_type": "error",
     "traceback": [
      "\u001b[1;31m---------------------------------------------------------------------------\u001b[0m",
      "\u001b[1;31mValueError\u001b[0m                                Traceback (most recent call last)",
      "\u001b[1;32m<ipython-input-5-7f9e7ba1b4f3>\u001b[0m in \u001b[0;36m<module>\u001b[1;34m\u001b[0m\n\u001b[0;32m      1\u001b[0m \u001b[0mcsvpath\u001b[0m \u001b[1;33m=\u001b[0m \u001b[0mos\u001b[0m\u001b[1;33m.\u001b[0m\u001b[0mpath\u001b[0m\u001b[1;33m.\u001b[0m\u001b[0mjoin\u001b[0m\u001b[1;33m(\u001b[0m\u001b[1;34m\"Analysis\"\u001b[0m\u001b[1;33m,\u001b[0m \u001b[1;34m\"budget_analysis.csv\"\u001b[0m\u001b[1;33m)\u001b[0m\u001b[1;33m\u001b[0m\u001b[1;33m\u001b[0m\u001b[0m\n\u001b[0;32m      2\u001b[0m \u001b[1;33m\u001b[0m\u001b[0m\n\u001b[1;32m----> 3\u001b[1;33m \u001b[1;32mwith\u001b[0m \u001b[0mopen\u001b[0m\u001b[1;33m(\u001b[0m\u001b[0mcsv_path\u001b[0m\u001b[1;33m,\u001b[0m \u001b[1;34m\"w\"\u001b[0m\u001b[1;33m,\u001b[0m \u001b[0mnewline\u001b[0m\u001b[1;33m=\u001b[0m \u001b[1;34m','\u001b[0m\u001b[1;33m)\u001b[0m \u001b[1;32mas\u001b[0m \u001b[0mcsvfile\u001b[0m\u001b[1;33m:\u001b[0m\u001b[1;33m\u001b[0m\u001b[1;33m\u001b[0m\u001b[0m\n\u001b[0m\u001b[0;32m      4\u001b[0m         \u001b[0mcsvwriter\u001b[0m \u001b[1;33m=\u001b[0m \u001b[0mcsv\u001b[0m\u001b[1;33m.\u001b[0m\u001b[0mwriter\u001b[0m\u001b[1;33m(\u001b[0m\u001b[0mcsvfile\u001b[0m\u001b[1;33m,\u001b[0m \u001b[0mdelimiter\u001b[0m\u001b[1;33m=\u001b[0m \u001b[1;34m','\u001b[0m\u001b[1;33m)\u001b[0m\u001b[1;33m\u001b[0m\u001b[1;33m\u001b[0m\u001b[0m\n",
      "\u001b[1;31mValueError\u001b[0m: illegal newline value: ,"
     ]
    }
   ],
   "source": [
    "csvpath = os.path.join(\"Analysis\", \"budget_analysis.csv\")\n",
    "\n",
    "with open(csv_path, \"w\", newline= ',') as csvfile:\n",
    "        csvwriter = csv.writer(csvfile, delimiter= ',')"
   ]
  },
  {
   "cell_type": "code",
   "execution_count": null,
   "metadata": {},
   "outputs": [],
   "source": [
    "#tell computer where to create the new file\n",
    "txtpath_out = os.path.join('analysis', 'budget_analysis.txt')\n",
    "#what type the new file should be\n",
    "with open(txtpath_out, 'w', newline='') as txtfile:\n",
    "#we need to tell it  how to write on the file\n",
    "    txtfile.write(f'write your string here {put_variable_here}\\n more text here {next_variable_hrere}\n"
   ]
  }
 ],
 "metadata": {
  "kernelspec": {
   "display_name": "Python 3",
   "language": "python",
   "name": "python3"
  },
  "language_info": {
   "codemirror_mode": {
    "name": "ipython",
    "version": 3
   },
   "file_extension": ".py",
   "mimetype": "text/x-python",
   "name": "python",
   "nbconvert_exporter": "python",
   "pygments_lexer": "ipython3",
   "version": "3.8.5"
  }
 },
 "nbformat": 4,
 "nbformat_minor": 4
}
